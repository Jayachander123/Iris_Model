{
 "cells": [
  {
   "cell_type": "markdown",
   "id": "588a14e0",
   "metadata": {},
   "source": [
    "<div class=\"alert alert-info\" style=\"background-color:#006a79; color:white; padding:0px 10px; border-radius:5px;\"><h2 style='margin:10px 5px'>Iris Data classification</h2>\n",
    "</div>"
   ]
  },
  {
   "cell_type": "markdown",
   "id": "4014b9f8",
   "metadata": {},
   "source": [
    "## Table of contents \n",
    "1. Importing Libraries\n",
    "2. Main Functions"
   ]
  },
  {
   "cell_type": "markdown",
   "id": "682168f1",
   "metadata": {},
   "source": [
    "<div class=\"alert alert-info\" style=\"background-color:#006a79; color:white; padding:0px 10px; border-radius:5px;\"><h2 \n",
    "style='margin:10px 5px'>1. Importing Libraries</h2>\n",
    "</div>"
   ]
  },
  {
   "cell_type": "code",
   "execution_count": 1,
   "id": "69b87f4d",
   "metadata": {},
   "outputs": [],
   "source": [
    "import os\n",
    "\n",
    "import pickle\n",
    "import pandas as pd"
   ]
  },
  {
   "cell_type": "markdown",
   "id": "72d1a455",
   "metadata": {},
   "source": [
    "<div class=\"alert alert-info\" style=\"background-color:#006a79; color:white; padding:0px 10px; border-radius:5px;\"><h2 \n",
    "style='margin:10px 5px'>2. Main Functions</h2>\n",
    "</div>"
   ]
  },
  {
   "cell_type": "code",
   "execution_count": 3,
   "id": "3cfde0f5",
   "metadata": {},
   "outputs": [],
   "source": [
    "def val_predictions(model, validation_set):\n",
    "    '''Validate Model results on Validation Set'''\n",
    "    try:        \n",
    "        print('Accuracy Score with Validation Data: ', accuracy_score(validation_set, model))\n",
    "        print(confusion_matrix(validation_set, model))\n",
    "        print(classification_report(validation_set, model))\n",
    "    except Exception as e:\n",
    "        print('Error in Predicting Validation for SVM: ', e)"
   ]
  },
  {
   "cell_type": "code",
   "execution_count": 14,
   "id": "1e598708",
   "metadata": {},
   "outputs": [],
   "source": [
    "def saving_model(model, name):   \n",
    "    '''Save the model as Pickle File in to pickle_files directory, This function supports saving even there is no directory exists'''\n",
    "    try:\n",
    "        if not os.path.exists('pickle_files/'):\n",
    "            os.makedirs('pickle_files/') # Create a new directory because it does not exist\n",
    "        else:\n",
    "            pass\n",
    "        pickle.dump(model, open(f'./pickle_files/model_{name}.pkl', 'wb'))\n",
    "    except Exception as e:\n",
    "        print('Error in Saving The Model: ', e)\n",
    "        print(model)\n",
    "        print(name)\n",
    "        raise     "
   ]
  },
  {
   "cell_type": "code",
   "execution_count": null,
   "id": "c9da9ee6",
   "metadata": {},
   "outputs": [],
   "source": []
  }
 ],
 "metadata": {
  "kernelspec": {
   "display_name": "Python 3 (ipykernel)",
   "language": "python",
   "name": "python3"
  },
  "language_info": {
   "codemirror_mode": {
    "name": "ipython",
    "version": 3
   },
   "file_extension": ".py",
   "mimetype": "text/x-python",
   "name": "python",
   "nbconvert_exporter": "python",
   "pygments_lexer": "ipython3",
   "version": "3.9.12"
  }
 },
 "nbformat": 4,
 "nbformat_minor": 5
}
