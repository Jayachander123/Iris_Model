{
 "cells": [
  {
   "cell_type": "markdown",
   "id": "588a14e0",
   "metadata": {},
   "source": [
    "<div class=\"alert alert-info\" style=\"background-color:#006a79; color:white; padding:0px 10px; border-radius:5px;\"><h2 style='margin:10px 5px'>Iris Data classification</h2>\n",
    "</div>"
   ]
  },
  {
   "cell_type": "markdown",
   "id": "682168f1",
   "metadata": {},
   "source": [
    "<div class=\"alert alert-info\" style=\"background-color:#006a79; color:white; padding:0px 10px; border-radius:5px;\"><h2 \n",
    "style='margin:10px 5px'>Importing Libraries</h2>\n",
    "</div>"
   ]
  },
  {
   "cell_type": "code",
   "execution_count": 1,
   "id": "5fb63d8e",
   "metadata": {},
   "outputs": [],
   "source": [
    "import requests\n",
    "import sys\n",
    "\n",
    "import pandas as pd\n",
    "from bs4 import BeautifulSoup\n",
    "import matplotlib.pyplot as plt\n",
    "import seaborn as sns\n",
    "from pandas.plotting import scatter_matrix\n",
    "from sklearn import preprocessing\n",
    "from sklearn.preprocessing import StandardScaler\n",
    "from sklearn.model_selection import train_test_split, GridSearchCV, StratifiedKFold, cross_val_score \n",
    "from sklearn.metrics import classification_report, confusion_matrix, accuracy_score\n",
    "from sklearn.linear_model import LogisticRegression\n",
    "from sklearn.ensemble import RandomForestClassifier\n",
    "from sklearn.neighbors import KNeighborsClassifier\n",
    "from sklearn.svm import SVC\n"
   ]
  },
  {
   "cell_type": "markdown",
   "id": "4e5447f3",
   "metadata": {},
   "source": [
    "<div class=\"alert alert-info\" style=\"background-color:#006a79; color:white; padding:0px 10px; border-radius:5px;\"><h2 style='margin:10px 5px'>Model Building with Stratified Kfold </h2>\n",
    "</div>"
   ]
  },
  {
   "cell_type": "code",
   "execution_count": 38,
   "id": "765afc5c",
   "metadata": {},
   "outputs": [],
   "source": [
    "def models_run_stratified(models, X_train, Y_train):\n",
    "    '''This Fucntions will evaluate Model one by one with Stratified K-Fold'''\n",
    "    try:\n",
    "        results = []\n",
    "        names = []\n",
    "        model_dict={}\n",
    "        seed = 7\n",
    "        for name, model in models:\n",
    "            kfold = StratifiedKFold(n_splits=10, random_state=seed, shuffle=True)\n",
    "            cv_results = cross_val_score(model, X_train, Y_train,  cv=kfold, scoring='accuracy')\n",
    "            results.append(cv_results)\n",
    "            names.append(name)\n",
    "            msg = \"%s: %f (%f)\" % (name, cv_results.mean(), cv_results.std())\n",
    "            model_dict[name]= cv_results.mean()\n",
    "            print(msg)\n",
    "    except Exception as e:\n",
    "        print('Error in running Stratified Kfold for all Models: ', e)\n",
    "        raise\n",
    "    return results, names, model_dict"
   ]
  },
  {
   "cell_type": "code",
   "execution_count": 41,
   "id": "df5fa143",
   "metadata": {},
   "outputs": [],
   "source": [
    "#Comparing all the Models\n",
    "def comparing_models(results, names):\n",
    "    '''Comparing all four Models from Cross Validation score and plotting them'''\n",
    "    try:\n",
    "        fig = plt.figure()\n",
    "        fig.suptitle('Algorithm Comparison')\n",
    "        ax = fig.add_subplot(111)\n",
    "        plt.boxplot(results)\n",
    "        ax.set_xticklabels(names)\n",
    "        plt.show()\n",
    "    except Exception as e:\n",
    "        print('Error in Plotting compare Models: ', e)"
   ]
  },
  {
   "cell_type": "markdown",
   "id": "6640a984",
   "metadata": {},
   "source": [
    "<div class=\"alert alert-info\" style=\"background-color:#006a79; color:white; padding:0px 10px; border-radius:5px;\"><h2 style='margin:10px 5px'>Main Function </h2>\n",
    "</div>"
   ]
  },
  {
   "cell_type": "code",
   "execution_count": 1,
   "id": "3cfc9dc6",
   "metadata": {},
   "outputs": [],
   "source": [
    "def main(models, X_train, Y_train, X_validation, Y_validation): \n",
    "    ''' Selecting Final Model for Predictions using Cross validation Score'''\n",
    "    try:\n",
    "        results, names, model_dict = models_run_stratified(models, X_train, Y_train)\n",
    "        comparing_models(results, names)\n",
    "        print('Model with Highest Accuracy : ', max(model_dict, key=model_dict.get))\n",
    "        acc_model = [m for m in models if m[0] == max(model_dict, key=model_dict.get)][0]\n",
    "        final_model = acc_model[1]\n",
    "        final_model.fit(X_train, Y_train)\n",
    "        predictions = final_model.predict(X_validation)\n",
    "        print(f'Accuracy Score of SVM: ', accuracy_score(Y_validation, predictions))\n",
    "        print(confusion_matrix(Y_validation, predictions))\n",
    "        print(classification_report(Y_validation, predictions))\n",
    "    except Exception as e:\n",
    "        print('Error in running Stratified K-fold for all models: ', e)\n",
    "        raise"
   ]
  },
  {
   "cell_type": "code",
   "execution_count": null,
   "id": "eeff3cc9",
   "metadata": {},
   "outputs": [],
   "source": []
  }
 ],
 "metadata": {
  "kernelspec": {
   "display_name": "Python 3 (ipykernel)",
   "language": "python",
   "name": "python3"
  },
  "language_info": {
   "codemirror_mode": {
    "name": "ipython",
    "version": 3
   },
   "file_extension": ".py",
   "mimetype": "text/x-python",
   "name": "python",
   "nbconvert_exporter": "python",
   "pygments_lexer": "ipython3",
   "version": "3.9.12"
  }
 },
 "nbformat": 4,
 "nbformat_minor": 5
}
