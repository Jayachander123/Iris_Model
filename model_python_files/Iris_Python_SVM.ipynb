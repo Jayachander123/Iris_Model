{
 "cells": [
  {
   "cell_type": "markdown",
   "id": "588a14e0",
   "metadata": {},
   "source": [
    "<div class=\"alert alert-info\" style=\"background-color:#006a79; color:white; padding:0px 10px; border-radius:5px;\"><h2 style='margin:10px 5px'>Iris Data classification</h2>\n",
    "</div>"
   ]
  },
  {
   "cell_type": "code",
   "execution_count": 27,
   "id": "d5b94c4c",
   "metadata": {},
   "outputs": [],
   "source": [
    "import requests\n",
    "import sys\n",
    "\n",
    "import pickle\n",
    "import pandas as pd\n",
    "import matplotlib.pyplot as plt\n",
    "import seaborn as sns\n",
    "from pandas.plotting import scatter_matrix\n",
    "from sklearn import preprocessing\n",
    "from sklearn.preprocessing import StandardScaler\n",
    "from sklearn.model_selection import train_test_split, GridSearchCV, StratifiedKFold, cross_val_score \n",
    "from sklearn.metrics import classification_report, confusion_matrix, accuracy_score\n",
    "from sklearn.svm import SVC\n"
   ]
  },
  {
   "cell_type": "markdown",
   "id": "4e5447f3",
   "metadata": {},
   "source": [
    "<div class=\"alert alert-info\" style=\"background-color:#006a79; color:white; padding:0px 10px; border-radius:5px;\"><h2 style='margin:10px 5px'>SVM with GridSearch CV </h2>\n",
    "</div>"
   ]
  },
  {
   "cell_type": "code",
   "execution_count": 21,
   "id": "67f7e34a",
   "metadata": {},
   "outputs": [],
   "source": [
    "def svm_model_run(X_train, Y_train, X_validation):\n",
    "    try:\n",
    "        parameters_svm = [{'C': [0.1, 1, 10, 100, 1000]}, \n",
    "                          {'gamma': [1, 0.1, 0.01, 0.001, 0.0001, 'scale', 'auto']},\n",
    "                          {'kernel': ['rbf']}, {'break_ties': [False]}, {'cache_size': [100, 200, 300]}, {'class_weight': [None]}, \n",
    "                          {'coef0': [0.0]},{'decision_function_shape': ['ovr']},  {'degree': [3]},  {'max_iter': [-1]}, \n",
    "                          {'probability': [False]},  {'random_state': [None]}, {'shrinking': [True]},  {'tol': [0.001]},\n",
    "                           {'verbose': [False]}]\n",
    "\n",
    "        svm_classifier = SVC()\n",
    "        grid_search_svm = GridSearchCV(estimator = svm_classifier,  \n",
    "                                   param_grid = parameters_svm,\n",
    "                                   scoring = 'accuracy',\n",
    "                                   cv = 10,\n",
    "                                   verbose=0)\n",
    "\n",
    "\n",
    "        grid_search_svm.fit(X_train, Y_train)\n",
    "        predictions_svm = grid_search_svm.predict(X_validation)\n",
    "    except Exception as e:\n",
    "        print('Error in Running SVM Model: ', e)\n",
    "        raise\n",
    "    return grid_search_svm, predictions_svm"
   ]
  },
  {
   "cell_type": "code",
   "execution_count": 29,
   "id": "b5867f8f",
   "metadata": {},
   "outputs": [],
   "source": [
    "%run Iris_Python_PostProcessing.ipynb"
   ]
  },
  {
   "cell_type": "markdown",
   "id": "6640a984",
   "metadata": {},
   "source": [
    "<div class=\"alert alert-info\" style=\"background-color:#006a79; color:white; padding:0px 10px; border-radius:5px;\"><h2 style='margin:10px 5px'>Main Function </h2>\n",
    "</div>"
   ]
  },
  {
   "cell_type": "code",
   "execution_count": null,
   "id": "7d0443fa",
   "metadata": {},
   "outputs": [],
   "source": [
    "def svm_main(X_train, Y_train, X_validation):\n",
    "    try:        \n",
    "        grid_search_svm, predictions_svm = svm_model_run(X_train, Y_train, X_validation)\n",
    "        val_predictions(predictions_svm, Y_validation)\n",
    "        saving_model(grid_search_svm, 'svm')\n",
    "    except Exception as e:\n",
    "        print('Error in SVM Model: ', e)\n",
    "        raise"
   ]
  }
 ],
 "metadata": {
  "kernelspec": {
   "display_name": "Python 3 (ipykernel)",
   "language": "python",
   "name": "python3"
  },
  "language_info": {
   "codemirror_mode": {
    "name": "ipython",
    "version": 3
   },
   "file_extension": ".py",
   "mimetype": "text/x-python",
   "name": "python",
   "nbconvert_exporter": "python",
   "pygments_lexer": "ipython3",
   "version": "3.9.12"
  }
 },
 "nbformat": 4,
 "nbformat_minor": 5
}
