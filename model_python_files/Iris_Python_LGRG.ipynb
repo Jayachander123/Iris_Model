{
 "cells": [
  {
   "cell_type": "markdown",
   "id": "588a14e0",
   "metadata": {},
   "source": [
    "<div class=\"alert alert-info\" style=\"background-color:#006a79; color:white; padding:0px 10px; border-radius:5px;\"><h2 style='margin:10px 5px'>Iris Data classification</h2>\n",
    "</div>"
   ]
  },
  {
   "cell_type": "code",
   "execution_count": null,
   "id": "7f71aa34",
   "metadata": {},
   "outputs": [],
   "source": [
    "import requests\n",
    "import sys\n",
    "\n",
    "import pickle\n",
    "import pandas as pd\n",
    "import matplotlib.pyplot as plt\n",
    "import seaborn as sns\n",
    "from pandas.plotting import scatter_matrix\n",
    "from sklearn import preprocessing\n",
    "from sklearn.preprocessing import StandardScaler\n",
    "from sklearn.model_selection import train_test_split, GridSearchCV, StratifiedKFold, cross_val_score \n",
    "from sklearn.metrics import classification_report, confusion_matrix, accuracy_score\n",
    "from sklearn.linear_model import LogisticRegression"
   ]
  },
  {
   "cell_type": "markdown",
   "id": "4e5447f3",
   "metadata": {},
   "source": [
    "<div class=\"alert alert-info\" style=\"background-color:#006a79; color:white; padding:0px 10px; border-radius:5px;\"><h2 style='margin:10px 5px'>Model Building with Stratified Kfold </h2>\n",
    "</div>"
   ]
  },
  {
   "cell_type": "code",
   "execution_count": null,
   "id": "2c471ef6",
   "metadata": {},
   "outputs": [],
   "source": [
    "def lgrg_model_run(model, X_train, Y_train):\n",
    "    try:\n",
    "        kfold = StratifiedKFold(n_splits=10, random_state=7, shuffle=True)\n",
    "        cv_results = cross_val_score(model, X_train, Y_train,  cv=kfold, scoring='accuracy')\n",
    "        mean_cv = cv_results.mean()\n",
    "    except Exception as e:\n",
    "        print('Error in Running Logistic Regression: ', e)\n",
    "        raise\n",
    "    return mean_cv"
   ]
  },
  {
   "cell_type": "code",
   "execution_count": null,
   "id": "8a994e40",
   "metadata": {},
   "outputs": [],
   "source": [
    "%run Iris_Python_PostProcessing.ipynb"
   ]
  },
  {
   "cell_type": "code",
   "execution_count": 23,
   "id": "c8689ea5",
   "metadata": {},
   "outputs": [
    {
     "name": "stdout",
     "output_type": "stream",
     "text": [
      "0.9666666666666667\n",
      "[[ 8  0  0]\n",
      " [ 0  8  1]\n",
      " [ 0  0 13]]\n",
      "                 precision    recall  f1-score   support\n",
      "\n",
      "    Iris-setosa       1.00      1.00      1.00         8\n",
      "Iris-versicolor       1.00      0.89      0.94         9\n",
      " Iris-virginica       0.93      1.00      0.96        13\n",
      "\n",
      "       accuracy                           0.97        30\n",
      "      macro avg       0.98      0.96      0.97        30\n",
      "   weighted avg       0.97      0.97      0.97        30\n",
      "\n"
     ]
    }
   ],
   "source": [
    "def lgrg_predictions(lr_iris3, X_train, Y_train, X_validation):  \n",
    "    try:\n",
    "        lr_iris3.fit(X_train, Y_train)\n",
    "        y_pred3 = lr_iris3.predict(X_validation)\n",
    "    except Exception as e:\n",
    "        print('Error in Predicting with Logistic Regression: ', e)\n",
    "    return y_pred3"
   ]
  },
  {
   "cell_type": "markdown",
   "id": "b2c8a1f8",
   "metadata": {},
   "source": [
    "<div class=\"alert alert-info\" style=\"background-color:#006a79; color:white; padding:0px 10px; border-radius:5px;\"><h2 style='margin:10px 5px'>Main Fuction </h2>\n",
    "</div>"
   ]
  },
  {
   "cell_type": "code",
   "execution_count": null,
   "id": "7d0443fa",
   "metadata": {},
   "outputs": [],
   "source": [
    "def lgrg_main(X_train, Y_train, X_validation):\n",
    "    try:\n",
    "        lr_iris1 = LogisticRegression(multi_class='multinomial',solver='newton-cg')\n",
    "        mean_cv1 = lgrg_model_run(lr_iris1, X_train, Y_train)\n",
    "        print('Mean Cross Validation Score using solver newton-cg : ', mean_cv1)\n",
    "        \n",
    "        lr_iris3 = LogisticRegression(multi_class='ovr',solver='liblinear')\n",
    "        mean_cv3 = lgrg_model_run(lr_iris3, X_train, Y_train)\n",
    "        print('Mean Cross Validation Score using solver liblinear : ',mean_cv3)\n",
    "        \n",
    "        y_pred3 = lgrg_predictions(lr_iris3, X_train, Y_train, X_validation)\n",
    "        val_predictions(y_pred3, Y_validation)\n",
    "        saving_model(lr_iris3, 'lgrg')\n",
    "    except Exception as e:\n",
    "        print('Error in Logistic Regression: ', e)\n",
    "        raise"
   ]
  }
 ],
 "metadata": {
  "kernelspec": {
   "display_name": "Python 3 (ipykernel)",
   "language": "python",
   "name": "python3"
  },
  "language_info": {
   "codemirror_mode": {
    "name": "ipython",
    "version": 3
   },
   "file_extension": ".py",
   "mimetype": "text/x-python",
   "name": "python",
   "nbconvert_exporter": "python",
   "pygments_lexer": "ipython3",
   "version": "3.9.12"
  }
 },
 "nbformat": 4,
 "nbformat_minor": 5
}
