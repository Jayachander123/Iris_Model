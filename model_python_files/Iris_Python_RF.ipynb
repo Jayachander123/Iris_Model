{
 "cells": [
  {
   "cell_type": "markdown",
   "id": "588a14e0",
   "metadata": {},
   "source": [
    "<div class=\"alert alert-info\" style=\"background-color:#006a79; color:white; padding:0px 10px; border-radius:5px;\"><h2 style='margin:10px 5px'>Iris Data classification</h2>\n",
    "</div>"
   ]
  },
  {
   "cell_type": "code",
   "execution_count": null,
   "id": "b0fc99de",
   "metadata": {},
   "outputs": [],
   "source": [
    "import requests\n",
    "import sys\n",
    "\n",
    "import pickle\n",
    "import pandas as pd\n",
    "import matplotlib.pyplot as plt\n",
    "import seaborn as sns\n",
    "from pandas.plotting import scatter_matrix\n",
    "from sklearn import preprocessing\n",
    "from sklearn.preprocessing import StandardScaler\n",
    "from sklearn.model_selection import train_test_split, GridSearchCV, StratifiedKFold, cross_val_score \n",
    "from sklearn.metrics import classification_report, confusion_matrix, accuracy_score\n",
    "from sklearn.ensemble import RandomForestClassifier\n"
   ]
  },
  {
   "cell_type": "markdown",
   "id": "4e5447f3",
   "metadata": {},
   "source": [
    "<div class=\"alert alert-info\" style=\"background-color:#006a79; color:white; padding:0px 10px; border-radius:5px;\"><h2 style='margin:10px 5px'>Model Building with Stratified Kfold </h2>\n",
    "</div>"
   ]
  },
  {
   "cell_type": "code",
   "execution_count": 20,
   "id": "12b8c3ef",
   "metadata": {},
   "outputs": [],
   "source": [
    "def rf_model_run(X_train, Y_train, X_validation):\n",
    "    try:\n",
    "        parameters_rf = [{'n_estimators' : [50, 100, 300, 500, 800, 1200]},{'max_depth':  [1, 4, 5, 8, 15, 25, 30]},\n",
    "                        {'min_samples_split' : [2, 5, 10, 15, 20, 25, 30, 100]},{'min_samples_leaf' : [1, 2, 5, 10]}, \n",
    "                        {'bootstrap': [True, False]}, {'ccp_alpha': [0.0, 1.0, 2.0, 5.0, 10.0]},\n",
    "                        {'criterion': ['gini']}, {'max_features': ['auto']}, {'min_impurity_decrease': [0.0, 1.0, 2.0, 10.0]}, \n",
    "                        {'oob_score': [True, False]},  {'verbose': [0, 1]}]\n",
    "\n",
    "\n",
    "\n",
    "        rf_classifier = RandomForestClassifier()\n",
    "        grid_search_rf = GridSearchCV(estimator = rf_classifier,  \n",
    "                                   param_grid = parameters_rf,\n",
    "                                   scoring = 'accuracy',\n",
    "                                   cv = 10,\n",
    "                                   verbose=0)\n",
    "\n",
    "\n",
    "        grid_search_rf.fit(X_train, Y_train)\n",
    "        predictions_rf = grid_search_rf.predict(X_validation)\n",
    "    except Exception as e:\n",
    "        print('Error in running the RF Model: ', e)\n",
    "        raise\n",
    "    return grid_search_rf, predictions_rf"
   ]
  },
  {
   "cell_type": "code",
   "execution_count": null,
   "id": "66891a43",
   "metadata": {},
   "outputs": [],
   "source": [
    "%run Iris_Python_PostProcessing.ipynb"
   ]
  },
  {
   "cell_type": "markdown",
   "id": "6640a984",
   "metadata": {},
   "source": [
    "<div class=\"alert alert-info\" style=\"background-color:#006a79; color:white; padding:0px 10px; border-radius:5px;\"><h2 style='margin:10px 5px'>Main Function </h2>\n",
    "</div>"
   ]
  },
  {
   "cell_type": "code",
   "execution_count": null,
   "id": "7d0443fa",
   "metadata": {},
   "outputs": [],
   "source": [
    "def rf_main(X_train, Y_train, X_validation):\n",
    "    try:\n",
    "        grid_search_rf, predictions_rf = rf_model_run(X_train, Y_train, X_validation)\n",
    "        val_predictions(predictions_rf, Y_validation)\n",
    "        saving_model(grid_search_rf, 'rf')\n",
    "    except Exception as e:\n",
    "        print('Error in Random Forest: ', e)\n",
    "        raise"
   ]
  }
 ],
 "metadata": {
  "kernelspec": {
   "display_name": "Python 3 (ipykernel)",
   "language": "python",
   "name": "python3"
  },
  "language_info": {
   "codemirror_mode": {
    "name": "ipython",
    "version": 3
   },
   "file_extension": ".py",
   "mimetype": "text/x-python",
   "name": "python",
   "nbconvert_exporter": "python",
   "pygments_lexer": "ipython3",
   "version": "3.9.12"
  }
 },
 "nbformat": 4,
 "nbformat_minor": 5
}
