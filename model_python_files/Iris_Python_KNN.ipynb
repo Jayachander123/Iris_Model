{
 "cells": [
  {
   "cell_type": "markdown",
   "id": "588a14e0",
   "metadata": {},
   "source": [
    "<div class=\"alert alert-info\" style=\"background-color:#006a79; color:white; padding:0px 10px; border-radius:5px;\"><h2 style='margin:10px 5px'>Iris Data classification</h2>\n",
    "</div>"
   ]
  },
  {
   "cell_type": "code",
   "execution_count": null,
   "id": "7f6a489e",
   "metadata": {},
   "outputs": [],
   "source": [
    "import requests\n",
    "import sys\n",
    "\n",
    "import pickle\n",
    "import pandas as pd\n",
    "import matplotlib.pyplot as plt\n",
    "import seaborn as sns\n",
    "from pandas.plotting import scatter_matrix\n",
    "from sklearn import preprocessing\n",
    "from sklearn.preprocessing import StandardScaler\n",
    "from sklearn.model_selection import train_test_split, GridSearchCV, StratifiedKFold, cross_val_score \n",
    "from sklearn.metrics import classification_report, confusion_matrix, accuracy_score\n",
    "from sklearn.neighbors import KNeighborsClassifier"
   ]
  },
  {
   "cell_type": "markdown",
   "id": "4e5447f3",
   "metadata": {},
   "source": [
    "<div class=\"alert alert-info\" style=\"background-color:#006a79; color:white; padding:0px 10px; border-radius:5px;\"><h2 style='margin:10px 5px'>Model Building with GridSearch and Kfold </h2>\n",
    "</div>"
   ]
  },
  {
   "cell_type": "code",
   "execution_count": 21,
   "id": "9db57c72",
   "metadata": {},
   "outputs": [],
   "source": [
    "def knn_model_run(X_train, Y_train, X_validation):\n",
    "    try:\n",
    "        parameters_knn = [{'n_neighbors': [1, 3, 5, 8, 9, 13, 15, 18, 21, 24, 27]},\n",
    "                      {'weights':['uniform', 'distance']},\n",
    "                      {'metric':['euclidean', 'manhattan']}]\n",
    "        knn = KNeighborsClassifier(n_neighbors=20)\n",
    "\n",
    "        grid_search_knn = GridSearchCV(knn, param_grid = parameters_knn, scoring='accuracy', cv=10, verbose=0)\n",
    "        grid_search_knn.fit(X_train, Y_train)\n",
    "        predictions_knn = grid_search_knn.predict(X_validation)\n",
    "    except Exception as e:\n",
    "        print('Error in KNN Model Run: ', e)\n",
    "        raise\n",
    "    return grid_search_knn, predictions_knn"
   ]
  },
  {
   "cell_type": "code",
   "execution_count": null,
   "id": "76add24c",
   "metadata": {},
   "outputs": [],
   "source": [
    "%run Iris_Python_PostProcessing.ipynb"
   ]
  },
  {
   "cell_type": "markdown",
   "id": "6640a984",
   "metadata": {},
   "source": [
    "<div class=\"alert alert-info\" style=\"background-color:#006a79; color:white; padding:0px 10px; border-radius:5px;\"><h2 style='margin:10px 5px'>Main Fuction </h2>\n",
    "</div>"
   ]
  },
  {
   "cell_type": "code",
   "execution_count": null,
   "id": "b8c88fee",
   "metadata": {},
   "outputs": [],
   "source": [
    "def knn_main(X_train, Y_train, X_validation):\n",
    "    try:\n",
    "        grid_search_knn, predictions_knn = knn_model_run(X_train, Y_train, X_validation)\n",
    "        val_predictions(predictions_knn, Y_validation)\n",
    "        saving_model(grid_search_knn, 'knn')\n",
    "    except Exception as e:\n",
    "        print('Error in KNN: ', e)\n",
    "        raise"
   ]
  }
 ],
 "metadata": {
  "kernelspec": {
   "display_name": "Python 3 (ipykernel)",
   "language": "python",
   "name": "python3"
  },
  "language_info": {
   "codemirror_mode": {
    "name": "ipython",
    "version": 3
   },
   "file_extension": ".py",
   "mimetype": "text/x-python",
   "name": "python",
   "nbconvert_exporter": "python",
   "pygments_lexer": "ipython3",
   "version": "3.9.12"
  }
 },
 "nbformat": 4,
 "nbformat_minor": 5
}
